{
 "cells": [
  {
   "cell_type": "code",
   "execution_count": 9,
   "metadata": {},
   "outputs": [],
   "source": [
    "import tensorflow as tf \n",
    "import tensorflow.keras as keras \n",
    "import numpy as np "
   ]
  },
  {
   "cell_type": "code",
   "execution_count": 10,
   "metadata": {},
   "outputs": [],
   "source": [
    "class Mymodel(keras.Model):\n",
    "    def __init__(self):\n",
    "        super(Mymodel, self).__init__()\n",
    "        self.CRNN = keras.Sequential([\n",
    "            keras.layers.Conv2D(filters=64, kernel_size=3,activation='relu', padding='same'),\n",
    "            keras.layers.MaxPool2D(),\n",
    "            keras.layers.Conv2D(filters=64, kernel_size=3,activation='relu',padding='same'),\n",
    "            keras.layers.MaxPool2D(),\n",
    "            keras.layers.Conv2D(filters=64, kernel_size=3,activation='relu',padding='same'),\n",
    "            keras.layers.MaxPool2D(),\n",
    "            keras.layers.Conv2D(filters=64, kernel_size=3,activation='relu',padding='same'),\n",
    "            keras.layers.MaxPool2D(),\n",
    "            keras.layers.Reshape(target_shape=(2*10, 64)),\n",
    "            keras.layers.LSTM(128, return_sequences=False),\n",
    "            keras.layers.Dense(10, activation='softmax')\n",
    "            \n",
    "        ])\n",
    "    def call(self,x):\n",
    "        return self.CRNN(x)"
   ]
  },
  {
   "cell_type": "code",
   "execution_count": 11,
   "metadata": {},
   "outputs": [],
   "source": [
    "def load_dataset(path):\n",
    "    X = []\n",
    "    for i in range(1,10):\n",
    "        data = np.load(path+'dataX'+ str(i) +'.npz')\n",
    "        X.append(data['arr'])\n",
    "    Y = np.load(path+'dataY.npz')\n",
    "    Y = np.array(Y['arr'])\n",
    "    X1 = X[0]\n",
    "    for i in range(1,len(X)):\n",
    "        X1 = np.concatenate((X1,X[i]))\n",
    "    return X1,Y"
   ]
  },
  {
   "cell_type": "code",
   "execution_count": 12,
   "metadata": {},
   "outputs": [
    {
     "name": "stdout",
     "output_type": "stream",
     "text": [
      "(8732, 40, 173) (8732, 10)\n"
     ]
    }
   ],
   "source": [
    "X,Y=load_dataset('data/')\n",
    "print(X.shape, Y.shape)"
   ]
  },
  {
   "cell_type": "code",
   "execution_count": 13,
   "metadata": {},
   "outputs": [
    {
     "name": "stdout",
     "output_type": "stream",
     "text": [
      "(6986, 40, 173) (6986, 10)\n",
      "(1746, 40, 173) (1746, 10)\n",
      "(6986, 40, 173, 1) (1746, 40, 173, 1)\n"
     ]
    }
   ],
   "source": [
    "## shuffle the datasets, makes train better \n",
    "idx  = np.arange(8732)\n",
    "np.random.shuffle(idx)\n",
    "## [0,6986） train  80% ; [6986，8732) test 20%\n",
    "Xs,Ys = X[idx],Y[idx]\n",
    "trainX, testX = Xs[0:6986],Xs[6986:8732]\n",
    "trainY, testY = Ys[0:6986],Ys[6986:8732]\n",
    "print(trainX.shape, trainY.shape)\n",
    "print(testX.shape, testY.shape)\n",
    "# reshape the train data\n",
    "trainX = trainX.reshape((-1,40,173,1))\n",
    "testX = testX.reshape((-1,40,173,1))\n",
    "print(trainX.shape, testX.shape)"
   ]
  },
  {
   "cell_type": "code",
   "execution_count": 14,
   "metadata": {},
   "outputs": [],
   "source": [
    "## build the model\n",
    "model=Mymodel()\n",
    "model.compile(optimizer=keras.optimizers.Adam(),\n",
    "              loss = keras.losses.CategoricalCrossentropy(),\n",
    "              metrics=['accuracy'])"
   ]
  },
  {
   "cell_type": "code",
   "execution_count": 15,
   "metadata": {},
   "outputs": [
    {
     "name": "stdout",
     "output_type": "stream",
     "text": [
      "Train on 6986 samples\n",
      "Epoch 1/10\n",
      "6986/6986 [==============================] - 73s 10ms/sample - loss: 1.8553 - accuracy: 0.2916\n",
      "Epoch 2/10\n",
      "6986/6986 [==============================] - 71s 10ms/sample - loss: 1.4261 - accuracy: 0.4668\n",
      "Epoch 3/10\n",
      "6986/6986 [==============================] - 71s 10ms/sample - loss: 1.2541 - accuracy: 0.5369\n",
      "Epoch 4/10\n",
      "6986/6986 [==============================] - 71s 10ms/sample - loss: 1.1627 - accuracy: 0.5754\n",
      "Epoch 5/10\n",
      "6986/6986 [==============================] - 71s 10ms/sample - loss: 1.0519 - accuracy: 0.6195\n",
      "Epoch 6/10\n",
      "6986/6986 [==============================] - 71s 10ms/sample - loss: 0.9898 - accuracy: 0.6386\n",
      "Epoch 7/10\n",
      "6986/6986 [==============================] - 71s 10ms/sample - loss: 0.9267 - accuracy: 0.6663\n",
      "Epoch 8/10\n",
      "6986/6986 [==============================] - 71s 10ms/sample - loss: 0.8535 - accuracy: 0.6965\n",
      "Epoch 9/10\n",
      "6986/6986 [==============================] - 71s 10ms/sample - loss: 0.8002 - accuracy: 0.7127\n",
      "Epoch 10/10\n",
      "6986/6986 [==============================] - 71s 10ms/sample - loss: 0.7445 - accuracy: 0.7346\n"
     ]
    },
    {
     "data": {
      "text/plain": [
       "<tensorflow.python.keras.callbacks.History at 0x177e8b44408>"
      ]
     },
     "execution_count": 15,
     "metadata": {},
     "output_type": "execute_result"
    }
   ],
   "source": [
    "## fit the model\n",
    "model.fit(trainX, trainY, batch_size=64, epochs=10)"
   ]
  },
  {
   "cell_type": "code",
   "execution_count": 16,
   "metadata": {},
   "outputs": [
    {
     "name": "stdout",
     "output_type": "stream",
     "text": [
      "1746/1746 [==============================] - 7s 4ms/sample - loss: 0.8950 - accuracy: 0.6644\n"
     ]
    },
    {
     "data": {
      "text/plain": [
       "[0.8950177956829093, 0.6643757]"
      ]
     },
     "execution_count": 16,
     "metadata": {},
     "output_type": "execute_result"
    }
   ],
   "source": [
    "model.evaluate(testX,testY)"
   ]
  },
  {
   "cell_type": "code",
   "execution_count": null,
   "metadata": {},
   "outputs": [],
   "source": []
  }
 ],
 "metadata": {
  "kernelspec": {
   "display_name": "Python 3",
   "language": "python",
   "name": "python3"
  },
  "language_info": {
   "codemirror_mode": {
    "name": "ipython",
    "version": 3
   },
   "file_extension": ".py",
   "mimetype": "text/x-python",
   "name": "python",
   "nbconvert_exporter": "python",
   "pygments_lexer": "ipython3",
   "version": "3.7.6"
  }
 },
 "nbformat": 4,
 "nbformat_minor": 4
}