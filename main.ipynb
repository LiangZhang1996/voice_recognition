{
 "cells": [
  {
   "cell_type": "code",
   "execution_count": 1,
   "metadata": {},
   "outputs": [],
   "source": [
    "import tensorflow as tf\n",
    "import tensorflow.keras as keras\n",
    "import numpy as np\n",
    "import librosa\n",
    "import sklearn"
   ]
  },
  {
   "cell_type": "code",
   "execution_count": 2,
   "metadata": {},
   "outputs": [],
   "source": [
    "class Mymodel(keras.Model):\n",
    "    def __init__(self):\n",
    "        super(Mymodel, self).__init__()\n",
    "\n",
    "        self.CNN = keras.Sequential([\n",
    "            ## build the CNN layers\n",
    "            keras.layers.Conv2D(filters=32, kernel_size=3,activation='relu',padding='same'),\n",
    "            keras.layers.MaxPool2D(),\n",
    "            keras.layers.Conv2D(filters=64, kernel_size=3,activation='relu',padding='same'),\n",
    "            keras.layers.MaxPool2D(),\n",
    "            keras.layers.Conv2D(filters=96, kernel_size=3,activation='relu',padding='same'),\n",
    "            keras.layers.MaxPool2D(),\n",
    "            keras.layers.Conv2D(filters=128, kernel_size=3,activation='relu',padding='same'),\n",
    "            keras.layers.MaxPool2D(),\n",
    "            keras.layers.Flatten(),\n",
    "            keras.layers.Dense(128, activation='relu'),\n",
    "            keras.layers.Dropout(0.5),\n",
    "            keras.layers.Dense(10, activation='softmax')\n",
    "        ])\n",
    "\n",
    "    def call(self, x):\n",
    "        return self.CNN(x)"
   ]
  },
  {
   "cell_type": "code",
   "execution_count": 3,
   "metadata": {},
   "outputs": [],
   "source": [
    "def MFCC(fname):\n",
    "    ## read the file and padding to the same \n",
    "    x, sr = librosa.load(fname)\n",
    "    ## 22050* 4s\n",
    "    if x.shape[0]< 88200:\n",
    "        x = np.pad(x,(0, 88200-x.shape[0]),'constant')\n",
    "    x = x[0:88200]\n",
    "    ## mfccs\n",
    "    mfccs = librosa.feature.mfcc(y=x, sr=sr,n_mfcc=40)\n",
    "    ## normalize the MFCCs \n",
    "    norm_mfccs = sklearn.preprocessing.scale(mfccs, axis=1)\n",
    "    return norm_mfccs\n",
    "def recong(y):\n",
    "    y = y.reshape((10,))\n",
    "    z = np.sort(y)\n",
    "    label =['airconditioner', 'carhorn', 'childrenplaying', 'dogdark', 'drilling', 'engineidling', 'gunshot', 'jackhammer', 'siren','street_music']\n",
    "    for yy in [z[-1], z[-2], z[-3]]:\n",
    "        c = np.where(y==yy)\n",
    "        print('Recongnized:',label[int(c[0])], 'Probability:',y[int(c[0])])"
   ]
  },
  {
   "cell_type": "code",
   "execution_count": 4,
   "metadata": {},
   "outputs": [
    {
     "data": {
      "text/plain": [
       "<tensorflow.python.training.tracking.util.CheckpointLoadStatus at 0x17078f7d348>"
      ]
     },
     "execution_count": 4,
     "metadata": {},
     "output_type": "execute_result"
    }
   ],
   "source": [
    "model = Mymodel()\n",
    "model.compile(optimizer=keras.optimizers.Adam(),\n",
    "            loss = keras.losses.CategoricalCrossentropy(),\n",
    "             metrics=['accuracy'])\n",
    "## load the pretrained model weights\n",
    "# 'weights/weights' is the weights you have ever saved\n",
    "model.load_weights('weights/weights')"
   ]
  },
  {
   "cell_type": "code",
   "execution_count": 5,
   "metadata": {},
   "outputs": [],
   "source": [
    "fnames= ['../urbansound8K/fold10/100648-1-3-0.wav','../urbansound8K/fold9/7063-6-0-0.wav','../urbansound8K/fold8/4918-3-0-0.wav','../urbansound8K/fold7/518-4-0-0.wav']"
   ]
  },
  {
   "cell_type": "code",
   "execution_count": 6,
   "metadata": {},
   "outputs": [
    {
     "name": "stdout",
     "output_type": "stream",
     "text": [
      "Recongnizing : ../urbansound8K/fold10/100648-1-3-0.wav ................\n",
      "Recongnized: drilling Probability: 0.42905027\n",
      "Recongnized: carhorn Probability: 0.32514605\n",
      "Recongnized: jackhammer Probability: 0.22547002\n",
      "Recongnizing : ../urbansound8K/fold9/7063-6-0-0.wav ................\n",
      "Recongnized: gunshot Probability: 0.9999863\n",
      "Recongnized: engineidling Probability: 1.36436465e-05\n",
      "Recongnized: drilling Probability: 9.406698e-08\n",
      "Recongnizing : ../urbansound8K/fold8/4918-3-0-0.wav ................\n",
      "Recongnized: dogdark Probability: 0.9982309\n",
      "Recongnized: drilling Probability: 0.0009892287\n",
      "Recongnized: carhorn Probability: 0.00048628406\n",
      "Recongnizing : ../urbansound8K/fold7/518-4-0-0.wav ................\n",
      "Recongnized: drilling Probability: 0.67499924\n",
      "Recongnized: airconditioner Probability: 0.17677404\n",
      "Recongnized: jackhammer Probability: 0.109373316\n"
     ]
    }
   ],
   "source": [
    "for fname in fnames:\n",
    "    mfccs = MFCC(fname)\n",
    "    mfccs = mfccs.reshape((-1,40,173,1))\n",
    "    y  = model.predict(mfccs)\n",
    "    print('Recongnizing :', fname, '................')\n",
    "    recong(y)"
   ]
  },
  {
   "cell_type": "code",
   "execution_count": null,
   "metadata": {},
   "outputs": [],
   "source": []
  }
 ],
 "metadata": {
  "kernelspec": {
   "display_name": "Python 3",
   "language": "python",
   "name": "python3"
  },
  "language_info": {
   "codemirror_mode": {
    "name": "ipython",
    "version": 3
   },
   "file_extension": ".py",
   "mimetype": "text/x-python",
   "name": "python",
   "nbconvert_exporter": "python",
   "pygments_lexer": "ipython3",
   "version": "3.7.6"
  }
 },
 "nbformat": 4,
 "nbformat_minor": 4
}
