{
 "cells": [
  {
   "cell_type": "code",
   "execution_count": 1,
   "metadata": {},
   "outputs": [],
   "source": [
    "import tensorflow as tf \n",
    "import tensorflow.keras as keras \n",
    "import numpy as np \n"
   ]
  },
  {
   "cell_type": "code",
   "execution_count": 2,
   "metadata": {},
   "outputs": [],
   "source": [
    "class Mymodel(keras.Model):\n",
    "    def __init__(self):\n",
    "        super(Mymodel, self).__init__()\n",
    "        self.DNN = keras.Sequential([\n",
    "            keras.layers.Flatten(),\n",
    "            keras.layers.Dense(1000, activation='relu'),\n",
    "            keras.layers.Dense(1000, activation='relu'),\n",
    "            keras.layers.Dense(1000, activation='relu'),           \n",
    "            keras.layers.Dense(1000, activation='relu'),\n",
    "            keras.layers.Dense(1000, activation='relu'),\n",
    "            keras.layers.Dense(1000, activation='relu'),\n",
    "            keras.layers.Dense(1000, activation='relu'),           \n",
    "            keras.layers.Dense(1000, activation='relu'),\n",
    "            keras.layers.Dropout(0.4),\n",
    "            keras.layers.Dense(64, activation='relu'),\n",
    "            keras.layers.Dense(10, activation='softmax')\n",
    "        ])\n",
    "    def call(self,x):\n",
    "        return self.DNN(x)"
   ]
  },
  {
   "cell_type": "code",
   "execution_count": 3,
   "metadata": {},
   "outputs": [],
   "source": [
    "def load_dataset(path):\n",
    "    X = []\n",
    "    for i in range(1,10):\n",
    "        data = np.load(path+'dataX'+ str(i) +'.npz')\n",
    "        X.append(data['arr'])\n",
    "    Y = np.load(path+'dataY.npz')\n",
    "    Y = np.array(Y['arr'])\n",
    "    X1 = X[0]\n",
    "    for i in range(1,len(X)):\n",
    "        X1 = np.concatenate((X1,X[i]))\n",
    "    return X1,Y"
   ]
  },
  {
   "cell_type": "code",
   "execution_count": 4,
   "metadata": {},
   "outputs": [
    {
     "name": "stdout",
     "output_type": "stream",
     "text": [
      "(8732, 40, 173) (8732, 10)\n"
     ]
    }
   ],
   "source": [
    "X,Y=load_dataset('data/')\n",
    "print(X.shape, Y.shape)"
   ]
  },
  {
   "cell_type": "code",
   "execution_count": 5,
   "metadata": {},
   "outputs": [
    {
     "name": "stdout",
     "output_type": "stream",
     "text": [
      "(6986, 40, 173) (6986, 10)\n",
      "(1746, 40, 173) (1746, 10)\n"
     ]
    }
   ],
   "source": [
    "## shuffle the datasets, makes train better \n",
    "idx  = np.arange(8732)\n",
    "np.random.shuffle(idx)\n",
    "## [0,6986） train  80% ; [6986，8732) test 20%\n",
    "Xs,Ys = X[idx],Y[idx]\n",
    "trainX, testX = Xs[0:6986],Xs[6986:8732]\n",
    "trainY, testY = Ys[0:6986],Ys[6986:8732]\n",
    "print(trainX.shape, trainY.shape)\n",
    "print(testX.shape, testY.shape)\n"
   ]
  },
  {
   "cell_type": "code",
   "execution_count": 6,
   "metadata": {},
   "outputs": [],
   "source": [
    "## build the model\n",
    "model=Mymodel()\n",
    "model.compile(optimizer=keras.optimizers.Adam(),\n",
    "              loss = keras.losses.CategoricalCrossentropy(),\n",
    "              metrics=['accuracy'])"
   ]
  },
  {
   "cell_type": "code",
   "execution_count": 7,
   "metadata": {},
   "outputs": [
    {
     "name": "stdout",
     "output_type": "stream",
     "text": [
      "Train on 6986 samples\n",
      "Epoch 1/10\n",
      "6986/6986 [==============================] - 9s 1ms/sample - loss: 2.1846 - accuracy: 0.1492\n",
      "Epoch 2/10\n",
      "6986/6986 [==============================] - 8s 1ms/sample - loss: 2.0459 - accuracy: 0.1971\n",
      "Epoch 3/10\n",
      "6986/6986 [==============================] - 8s 1ms/sample - loss: 1.7922 - accuracy: 0.2917\n",
      "Epoch 4/10\n",
      "6986/6986 [==============================] - 8s 1ms/sample - loss: 1.4565 - accuracy: 0.4058\n",
      "Epoch 5/10\n",
      "6986/6986 [==============================] - 8s 1ms/sample - loss: 1.1771 - accuracy: 0.4964\n",
      "Epoch 6/10\n",
      "6986/6986 [==============================] - 8s 1ms/sample - loss: 0.9450 - accuracy: 0.5899\n",
      "Epoch 7/10\n",
      "6986/6986 [==============================] - 8s 1ms/sample - loss: 0.8012 - accuracy: 0.6542\n",
      "Epoch 8/10\n",
      "6986/6986 [==============================] - 9s 1ms/sample - loss: 0.6825 - accuracy: 0.71391s - l\n",
      "Epoch 9/10\n",
      "6986/6986 [==============================] - 9s 1ms/sample - loss: 0.6143 - accuracy: 0.7549\n",
      "Epoch 10/10\n",
      "6986/6986 [==============================] - 9s 1ms/sample - loss: 0.5446 - accuracy: 0.8016\n"
     ]
    },
    {
     "data": {
      "text/plain": [
       "<tensorflow.python.keras.callbacks.History at 0x1821cdfe3c8>"
      ]
     },
     "execution_count": 7,
     "metadata": {},
     "output_type": "execute_result"
    }
   ],
   "source": [
    "## fit the model\n",
    "model.fit(trainX, trainY, batch_size=64, epochs=10)"
   ]
  },
  {
   "cell_type": "code",
   "execution_count": 8,
   "metadata": {},
   "outputs": [
    {
     "name": "stdout",
     "output_type": "stream",
     "text": [
      "1746/1746 [==============================] - 1s 771us/sample - loss: 3.0541 - accuracy: 0.3282\n"
     ]
    },
    {
     "data": {
      "text/plain": [
       "[3.0540866291946287, 0.3281787]"
      ]
     },
     "execution_count": 8,
     "metadata": {},
     "output_type": "execute_result"
    }
   ],
   "source": [
    "model.evaluate(testX,testY)"
   ]
  },
  {
   "cell_type": "code",
   "execution_count": null,
   "metadata": {},
   "outputs": [],
   "source": []
  }
 ],
 "metadata": {
  "kernelspec": {
   "display_name": "Python 3",
   "language": "python",
   "name": "python3"
  },
  "language_info": {
   "codemirror_mode": {
    "name": "ipython",
    "version": 3
   },
   "file_extension": ".py",
   "mimetype": "text/x-python",
   "name": "python",
   "nbconvert_exporter": "python",
   "pygments_lexer": "ipython3",
   "version": "3.7.6"
  }
 },
 "nbformat": 4,
 "nbformat_minor": 4
}