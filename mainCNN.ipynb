{
 "cells": [
  {
   "cell_type": "code",
   "execution_count": 1,
   "metadata": {},
   "outputs": [],
   "source": [
    "import tensorflow as tf\n",
    "import tensorflow.keras as keras\n",
    "import numpy as np"
   ]
  },
  {
   "cell_type": "code",
   "execution_count": 2,
   "metadata": {},
   "outputs": [],
   "source": [
    "class Mymodel(keras.Model):\n",
    "    def __init__(self):\n",
    "        super(Mymodel, self).__init__()\n",
    "\n",
    "        self.CNN = keras.Sequential([\n",
    "            ## build the CNN layers\n",
    "            keras.layers.Conv2D(filters=32, kernel_size=3,activation='relu',padding='same'),\n",
    "            keras.layers.MaxPool2D(),\n",
    "            keras.layers.Conv2D(filters=64, kernel_size=3,activation='relu',padding='same'),\n",
    "            keras.layers.MaxPool2D(),\n",
    "            keras.layers.Conv2D(filters=96, kernel_size=3,activation='relu',padding='same'),\n",
    "            keras.layers.MaxPool2D(),\n",
    "            keras.layers.Conv2D(filters=128, kernel_size=3,activation='relu',padding='same'),\n",
    "            keras.layers.MaxPool2D(),\n",
    "            keras.layers.Flatten(),\n",
    "            keras.layers.Dense(128, activation='relu'),\n",
    "            keras.layers.Dropout(0.5),\n",
    "            keras.layers.Dense(10, activation='softmax')\n",
    "        ])\n",
    "\n",
    "    def call(self, x):\n",
    "        return self.CNN(x)"
   ]
  },
  {
   "cell_type": "code",
   "execution_count": 3,
   "metadata": {},
   "outputs": [],
   "source": [
    "def load_dataset(path):\n",
    "    X = []\n",
    "    for i in range(1,10):\n",
    "        data = np.load(path+'dataX'+ str(i) +'.npz')\n",
    "        X.append(data['arr'])\n",
    "    Y = np.load(path+'dataY.npz')\n",
    "    Y = np.array(Y['arr'])\n",
    "    X1 = X[0]\n",
    "    for i in range(1,len(X)):\n",
    "        X1 = np.concatenate((X1,X[i]))\n",
    "    return X1,Y"
   ]
  },
  {
   "cell_type": "code",
   "execution_count": 4,
   "metadata": {},
   "outputs": [
    {
     "name": "stdout",
     "output_type": "stream",
     "text": [
      "(8732, 40, 173) (8732, 10)\n"
     ]
    }
   ],
   "source": [
    "X,Y=load_dataset('data/')\n",
    "print(X.shape, Y.shape)"
   ]
  },
  {
   "cell_type": "code",
   "execution_count": null,
   "metadata": {},
   "outputs": [],
   "source": []
  },
  {
   "cell_type": "code",
   "execution_count": 5,
   "metadata": {},
   "outputs": [
    {
     "name": "stdout",
     "output_type": "stream",
     "text": [
      "(6986, 40, 173) (6986, 10)\n",
      "(1746, 40, 173) (1746, 10)\n"
     ]
    }
   ],
   "source": [
    "## shuffle the datasets, makes train better \n",
    "idx  = np.arange(8732)\n",
    "np.random.shuffle(idx)\n",
    "## [0,6986） train  80% ; [6986，8732) test 20%\n",
    "Xs,Ys = X[idx],Y[idx]\n",
    "trainX, testX = Xs[0:6986],Xs[6986:8732]\n",
    "trainY, testY = Ys[0:6986],Ys[6986:8732]\n",
    "print(trainX.shape, trainY.shape)\n",
    "print(testX.shape, testY.shape)"
   ]
  },
  {
   "cell_type": "code",
   "execution_count": 6,
   "metadata": {},
   "outputs": [
    {
     "name": "stdout",
     "output_type": "stream",
     "text": [
      "(6986, 40, 173, 1) (1746, 40, 173, 1)\n"
     ]
    }
   ],
   "source": [
    "# reshape the train data\n",
    "trainX = trainX.reshape((-1,40,173,1))\n",
    "testX = testX.reshape((-1,40,173,1))\n",
    "print(trainX.shape, testX.shape)"
   ]
  },
  {
   "cell_type": "markdown",
   "metadata": {},
   "source": []
  },
  {
   "cell_type": "code",
   "execution_count": 7,
   "metadata": {},
   "outputs": [],
   "source": [
    "## build the model\n",
    "model=Mymodel()\n",
    "model.compile(optimizer=keras.optimizers.Adam(),\n",
    "              loss = keras.losses.CategoricalCrossentropy(),\n",
    "              metrics=['accuracy'])\n"
   ]
  },
  {
   "cell_type": "code",
   "execution_count": 8,
   "metadata": {},
   "outputs": [
    {
     "name": "stdout",
     "output_type": "stream",
     "text": [
      "Train on 6986 samples\n",
      "Epoch 1/10\n",
      "6986/6986 [==============================] - 53s 8ms/sample - loss: 1.9887 - accuracy: 0.2322\n",
      "Epoch 2/10\n",
      "6986/6986 [==============================] - 63s 9ms/sample - loss: 1.5834 - accuracy: 0.4014\n",
      "Epoch 3/10\n",
      "6986/6986 [==============================] - 53s 8ms/sample - loss: 1.3584 - accuracy: 0.4948\n",
      "Epoch 4/10\n",
      "6986/6986 [==============================] - 53s 8ms/sample - loss: 1.2054 - accuracy: 0.5608\n",
      "Epoch 5/10\n",
      "6986/6986 [==============================] - 53s 8ms/sample - loss: 1.0461 - accuracy: 0.6188\n",
      "Epoch 6/10\n",
      "6986/6986 [==============================] - 53s 8ms/sample - loss: 0.9508 - accuracy: 0.6691\n",
      "Epoch 7/10\n",
      "6986/6986 [==============================] - 53s 8ms/sample - loss: 0.8236 - accuracy: 0.7134\n",
      "Epoch 8/10\n",
      "6986/6986 [==============================] - 53s 8ms/sample - loss: 0.7481 - accuracy: 0.7413\n",
      "Epoch 9/10\n",
      "6986/6986 [==============================] - 53s 8ms/sample - loss: 0.6704 - accuracy: 0.7627\n",
      "Epoch 10/10\n",
      "6986/6986 [==============================] - 53s 8ms/sample - loss: 0.5678 - accuracy: 0.8019\n"
     ]
    },
    {
     "data": {
      "text/plain": [
       "<tensorflow.python.keras.callbacks.History at 0x272030b8608>"
      ]
     },
     "execution_count": 8,
     "metadata": {},
     "output_type": "execute_result"
    }
   ],
   "source": [
    "## fit the model\n",
    "model.fit(trainX, trainY, batch_size=64, epochs=10)\n"
   ]
  },
  {
   "cell_type": "code",
   "execution_count": 9,
   "metadata": {},
   "outputs": [
    {
     "name": "stdout",
     "output_type": "stream",
     "text": [
      "1746/1746 [==============================] - 5s 3ms/sample - loss: 0.6877 - accuracy: 0.76400s - loss: 0.6879 - accu\n"
     ]
    },
    {
     "data": {
      "text/plain": [
       "[0.687723212294016, 0.76403207]"
      ]
     },
     "execution_count": 9,
     "metadata": {},
     "output_type": "execute_result"
    }
   ],
   "source": [
    "## envaluate the model, calculate the accuracy in test data\n",
    "model.evaluate(testX,testY)"
   ]
  },
  {
   "cell_type": "code",
   "execution_count": 10,
   "metadata": {},
   "outputs": [],
   "source": [
    "## predict Y with testX\n",
    "predY = model.predict(testX)"
   ]
  },
  {
   "cell_type": "code",
   "execution_count": 11,
   "metadata": {},
   "outputs": [
    {
     "name": "stdout",
     "output_type": "stream",
     "text": [
      "Model: \"mymodel\"\n",
      "_________________________________________________________________\n",
      "Layer (type)                 Output Shape              Param #   \n",
      "=================================================================\n",
      "sequential (Sequential)      multiple                  514026    \n",
      "=================================================================\n",
      "Total params: 514,026\n",
      "Trainable params: 514,026\n",
      "Non-trainable params: 0\n",
      "_________________________________________________________________\n"
     ]
    }
   ],
   "source": [
    "# show the model \n",
    "model.summary()"
   ]
  },
  {
   "cell_type": "code",
   "execution_count": 12,
   "metadata": {},
   "outputs": [],
   "source": [
    "# save the model weights\n",
    "model.save_weights('weights/weights')"
   ]
  },
  {
   "cell_type": "code",
   "execution_count": 15,
   "metadata": {},
   "outputs": [],
   "source": []
  }
 ],
 "metadata": {
  "kernelspec": {
   "display_name": "Python 3",
   "language": "python",
   "name": "python3"
  },
  "language_info": {
   "codemirror_mode": {
    "name": "ipython",
    "version": 3
   },
   "file_extension": ".py",
   "mimetype": "text/x-python",
   "name": "python",
   "nbconvert_exporter": "python",
   "pygments_lexer": "ipython3",
   "version": "3.7.6"
  }
 },
 "nbformat": 4,
 "nbformat_minor": 4
}